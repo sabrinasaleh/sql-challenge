{
 "cells": [
  {
   "cell_type": "code",
   "execution_count": 1,
   "metadata": {},
   "outputs": [],
   "source": [
    "from sqlalchemy import create_engine\n",
    "import pandas as pd\n",
    "import numpy as np\n",
    "from matplotlib import pyplot as plt"
   ]
  },
  {
   "cell_type": "code",
   "execution_count": 2,
   "metadata": {},
   "outputs": [],
   "source": [
    "connection_str = \"postgresql://localhost:5432/<your_db_name>\""
   ]
  },
  {
   "cell_type": "code",
   "execution_count": 3,
   "metadata": {},
   "outputs": [],
   "source": [
    "engine = create_engine(connection_str)"
   ]
  },
  {
   "cell_type": "code",
   "execution_count": 4,
   "metadata": {},
   "outputs": [],
   "source": [
    "# Bonus: Importing the \"salaries\" SQL database into pandas\n",
    "df_salaries = pd.read_sql(\"SELECT * FROM salaries\", con=engine)"
   ]
  },
  {
   "cell_type": "code",
   "execution_count": 5,
   "metadata": {},
   "outputs": [
    {
     "data": {
      "image/png": "[encoded data removed]",
      "text/plain": [
       "<Figure size 432x288 with 1 Axes>"
      ]
     },
     "metadata": {
      "needs_background": "light"
     },
     "output_type": "display_data"
    }
   ],
   "source": [
    "# Bonus: Creating a histogram to visualize the most common salary ranges for employees\n",
    "df_salaries[\"salary\"].hist()\n",
    "plt.title(\"Histogram of Salaries\")\n",
    "plt.xlabel(\"Salary\")\n",
    "plt.ylabel(\"Frequency\")\n",
    "plt.savefig(\"../images/salaries_histogram.png\")\n",
    "plt.show()"
   ]
  },
  {
   "cell_type": "code",
   "execution_count": 6,
   "metadata": {},
   "outputs": [
    {
     "data": {
      "text/html": [
       "<div>\n",
       "<style scoped>\n",
       "    .dataframe tbody tr th:only-of-type {\n",
       "        vertical-align: middle;\n",
       "    }\n",
       "\n",
       "    .dataframe tbody tr th {\n",
       "        vertical-align: top;\n",
       "    }\n",
       "\n",
       "    .dataframe thead th {\n",
       "        text-align: right;\n",
       "    }\n",
       "</style>\n",
       "<table border=\"1\" class=\"dataframe\">\n",
       "  <thead>\n",
       "    <tr style=\"text-align: right;\">\n",
       "      <th></th>\n",
       "      <th>title</th>\n",
       "      <th>salary</th>\n",
       "    </tr>\n",
       "  </thead>\n",
       "  <tbody>\n",
       "    <tr>\n",
       "      <th>4</th>\n",
       "      <td>Senior Staff</td>\n",
       "      <td>58550.172704</td>\n",
       "    </tr>\n",
       "    <tr>\n",
       "      <th>5</th>\n",
       "      <td>Staff</td>\n",
       "      <td>58465.382850</td>\n",
       "    </tr>\n",
       "    <tr>\n",
       "      <th>2</th>\n",
       "      <td>Manager</td>\n",
       "      <td>51531.041667</td>\n",
       "    </tr>\n",
       "    <tr>\n",
       "      <th>6</th>\n",
       "      <td>Technique Leader</td>\n",
       "      <td>48582.896092</td>\n",
       "    </tr>\n",
       "    <tr>\n",
       "      <th>0</th>\n",
       "      <td>Assistant Engineer</td>\n",
       "      <td>48564.434447</td>\n",
       "    </tr>\n",
       "    <tr>\n",
       "      <th>1</th>\n",
       "      <td>Engineer</td>\n",
       "      <td>48535.336511</td>\n",
       "    </tr>\n",
       "    <tr>\n",
       "      <th>3</th>\n",
       "      <td>Senior Engineer</td>\n",
       "      <td>48506.799871</td>\n",
       "    </tr>\n",
       "  </tbody>\n",
       "</table>\n",
       "</div>"
      ],
      "text/plain": [
       "                title        salary\n",
       "4        Senior Staff  58550.172704\n",
       "5               Staff  58465.382850\n",
       "2             Manager  51531.041667\n",
       "6    Technique Leader  48582.896092\n",
       "0  Assistant Engineer  48564.434447\n",
       "1            Engineer  48535.336511\n",
       "3     Senior Engineer  48506.799871"
      ]
     },
     "execution_count": 6,
     "metadata": {},
     "output_type": "execute_result"
    }
   ],
   "source": [
    "# Bonus: Importing the \"titles\" SQL database into pandas\n",
    "df_titles = pd.read_sql(\"SELECT * FROM titles\", con=engine).rename(columns={\"title_id\": \"emp_title_id\"})  \n",
    "\n",
    "# Bonus: Importing the \"employees\" SQL database into pandas\n",
    "df_employees = pd.read_sql(\"SELECT emp_no, emp_title_id FROM employees\", con=engine)\n",
    "\n",
    "# Merging df_titles and df_employees \n",
    "df_merge_1 = pd.merge(df_titles, df_employees, on=\"emp_title_id\", how=\"inner\")\n",
    "\n",
    "# Merging df_merge_1 and df_salaries \n",
    "df_merge_2 = pd.merge(df_merge_1, df_salaries, on=\"emp_no\", how=\"inner\")\n",
    "\n",
    "# Calculating average salary by title and sorting dataframe by average salary\n",
    "avg_salary_title = df_merge_2.groupby(\"title\")[\"salary\"].mean().reset_index() \n",
    "avg_salary_title_sort = avg_salary_title.sort_values([\"salary\"], ascending=False)\n",
    "avg_salary_title_sort"
   ]
  },
  {
   "cell_type": "code",
   "execution_count": 7,
   "metadata": {},
   "outputs": [
    {
     "data": {
      "image/png": "[encoded data removed]",
      "text/plain": [
       "<Figure size 432x288 with 1 Axes>"
      ]
     },
     "metadata": {
      "needs_background": "light"
     },
     "output_type": "display_data"
    }
   ],
   "source": [
    "# Bonus: Creating a bar chart of average salary by title\n",
    "x_axis = avg_salary_title_sort[\"title\"]\n",
    "y_axis = avg_salary_title_sort[\"salary\"]\n",
    " \n",
    "plt.title(\"Average Employee Salary by Title\")\n",
    "plt.xlabel(\"Employee Titles\")\n",
    "plt.ylabel(\"Avg Salaries ($)\")\n",
    "plt.bar(x_axis, y_axis)\n",
    "plt.xticks(rotation=\"vertical\")\n",
    "plt.savefig(\"../images/avg_salary_title.png\")\n",
    "plt.show()"
   ]
  }
 ],
 "metadata": {
  "environment": {
   "name": "common-cpu.m54",
   "type": "gcloud",
   "uri": "gcr.io/deeplearning-platform-release/base-cpu:m54"
  },
  "kernelspec": {
   "display_name": "Python 3",
   "language": "python",
   "name": "python3"
  },
  "language_info": {
   "codemirror_mode": {
    "name": "ipython",
    "version": 3
   },
   "file_extension": ".py",
   "mimetype": "text/x-python",
   "name": "python",
   "nbconvert_exporter": "python",
   "pygments_lexer": "ipython3",
   "version": "3.7.8"
  }
 },
 "nbformat": 4,
 "nbformat_minor": 4
}
